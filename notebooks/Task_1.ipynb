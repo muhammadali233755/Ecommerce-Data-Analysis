{
  "cells": [
    {
      "cell_type": "markdown",
      "metadata": {},
      "source": [
        "Importing Libraries"
      ]
    },
    {
      "cell_type": "code",
      "execution_count": 14,
      "metadata": {
        "id": "bXeYe8EFy6ra"
      },
      "outputs": [
        {
          "name": "stdout",
          "output_type": "stream",
          "text": [
            "2.3.0\n"
          ]
        }
      ],
      "source": [
        "import os\n",
        "import pandas as pd\n",
        "print(pd.__version__)"
      ]
    },
    {
      "cell_type": "markdown",
      "metadata": {},
      "source": [
        "Load Dataset"
      ]
    },
    {
      "cell_type": "code",
      "execution_count": 15,
      "metadata": {
        "colab": {
          "base_uri": "https://localhost:8080/"
        },
        "id": "il6s5WBT20sY",
        "outputId": "f77f33fd-a135-4264-b10b-7f347ccb37b4"
      },
      "outputs": [
        {
          "name": "stderr",
          "output_type": "stream",
          "text": [
            "C:\\Users\\malip\\AppData\\Local\\Temp\\ipykernel_16360\\680866094.py:4: DtypeWarning: Columns (1,2,3,7,8,9,11,12,13,14,17,18,19) have mixed types. Specify dtype option on import or set low_memory=False.\n",
            "  data = pd.read_csv(file_path)\n"
          ]
        }
      ],
      "source": [
        "file_path = os.path.join(\n",
        "    os.getcwd(), \"..\", \"data\", \"raw\", \"Pakistan Largest Ecommerce Dataset.csv\"\n",
        ")\n",
        "data = pd.read_csv(file_path)"
      ]
    },
    {
      "cell_type": "code",
      "execution_count": 16,
      "metadata": {
        "colab": {
          "base_uri": "https://localhost:8080/",
          "height": 266
        },
        "id": "OqhfmC4p25QE",
        "outputId": "e9c2d3eb-1688-4edd-d587-d5465f586283"
      },
      "outputs": [
        {
          "data": {
            "text/html": [
              "<div>\n",
              "<style scoped>\n",
              "    .dataframe tbody tr th:only-of-type {\n",
              "        vertical-align: middle;\n",
              "    }\n",
              "\n",
              "    .dataframe tbody tr th {\n",
              "        vertical-align: top;\n",
              "    }\n",
              "\n",
              "    .dataframe thead th {\n",
              "        text-align: right;\n",
              "    }\n",
              "</style>\n",
              "<table border=\"1\" class=\"dataframe\">\n",
              "  <thead>\n",
              "    <tr style=\"text-align: right;\">\n",
              "      <th></th>\n",
              "      <th>item_id</th>\n",
              "      <th>status</th>\n",
              "      <th>created_at</th>\n",
              "      <th>sku</th>\n",
              "      <th>price</th>\n",
              "      <th>qty_ordered</th>\n",
              "      <th>grand_total</th>\n",
              "      <th>increment_id</th>\n",
              "      <th>category_name_1</th>\n",
              "      <th>sales_commission_code</th>\n",
              "      <th>...</th>\n",
              "      <th>Month</th>\n",
              "      <th>Customer Since</th>\n",
              "      <th>M-Y</th>\n",
              "      <th>FY</th>\n",
              "      <th>Customer ID</th>\n",
              "      <th>Unnamed: 21</th>\n",
              "      <th>Unnamed: 22</th>\n",
              "      <th>Unnamed: 23</th>\n",
              "      <th>Unnamed: 24</th>\n",
              "      <th>Unnamed: 25</th>\n",
              "    </tr>\n",
              "  </thead>\n",
              "  <tbody>\n",
              "    <tr>\n",
              "      <th>0</th>\n",
              "      <td>211131.0</td>\n",
              "      <td>complete</td>\n",
              "      <td>7/1/2016</td>\n",
              "      <td>kreations_YI 06-L</td>\n",
              "      <td>1950.0</td>\n",
              "      <td>1.0</td>\n",
              "      <td>1950.0</td>\n",
              "      <td>100147443</td>\n",
              "      <td>Women's Fashion</td>\n",
              "      <td>\\N</td>\n",
              "      <td>...</td>\n",
              "      <td>7.0</td>\n",
              "      <td>2016-7</td>\n",
              "      <td>7-2016</td>\n",
              "      <td>FY17</td>\n",
              "      <td>1.0</td>\n",
              "      <td>NaN</td>\n",
              "      <td>NaN</td>\n",
              "      <td>NaN</td>\n",
              "      <td>NaN</td>\n",
              "      <td>NaN</td>\n",
              "    </tr>\n",
              "    <tr>\n",
              "      <th>1</th>\n",
              "      <td>211133.0</td>\n",
              "      <td>canceled</td>\n",
              "      <td>7/1/2016</td>\n",
              "      <td>kcc_Buy 2 Frey Air Freshener &amp; Get 1 Kasual Bo...</td>\n",
              "      <td>240.0</td>\n",
              "      <td>1.0</td>\n",
              "      <td>240.0</td>\n",
              "      <td>100147444</td>\n",
              "      <td>Beauty &amp; Grooming</td>\n",
              "      <td>\\N</td>\n",
              "      <td>...</td>\n",
              "      <td>7.0</td>\n",
              "      <td>2016-7</td>\n",
              "      <td>7-2016</td>\n",
              "      <td>FY17</td>\n",
              "      <td>2.0</td>\n",
              "      <td>NaN</td>\n",
              "      <td>NaN</td>\n",
              "      <td>NaN</td>\n",
              "      <td>NaN</td>\n",
              "      <td>NaN</td>\n",
              "    </tr>\n",
              "  </tbody>\n",
              "</table>\n",
              "<p>2 rows × 26 columns</p>\n",
              "</div>"
            ],
            "text/plain": [
              "    item_id    status created_at  \\\n",
              "0  211131.0  complete   7/1/2016   \n",
              "1  211133.0  canceled   7/1/2016   \n",
              "\n",
              "                                                 sku   price  qty_ordered  \\\n",
              "0                                  kreations_YI 06-L  1950.0          1.0   \n",
              "1  kcc_Buy 2 Frey Air Freshener & Get 1 Kasual Bo...   240.0          1.0   \n",
              "\n",
              "   grand_total increment_id    category_name_1 sales_commission_code  ...  \\\n",
              "0       1950.0    100147443    Women's Fashion                    \\N  ...   \n",
              "1        240.0    100147444  Beauty & Grooming                    \\N  ...   \n",
              "\n",
              "   Month Customer Since     M-Y    FY Customer ID  Unnamed: 21  Unnamed: 22  \\\n",
              "0    7.0         2016-7  7-2016  FY17         1.0          NaN          NaN   \n",
              "1    7.0         2016-7  7-2016  FY17         2.0          NaN          NaN   \n",
              "\n",
              "  Unnamed: 23 Unnamed: 24 Unnamed: 25  \n",
              "0         NaN         NaN         NaN  \n",
              "1         NaN         NaN         NaN  \n",
              "\n",
              "[2 rows x 26 columns]"
            ]
          },
          "execution_count": 16,
          "metadata": {},
          "output_type": "execute_result"
        }
      ],
      "source": [
        "data.head(2)"
      ]
    },
    {
      "cell_type": "code",
      "execution_count": 17,
      "metadata": {
        "colab": {
          "base_uri": "https://localhost:8080/",
          "height": 337
        },
        "collapsed": true,
        "id": "6TOp2sJ4262E",
        "outputId": "e72555b9-efe7-4135-d4ee-48e4cc6e53cd"
      },
      "outputs": [
        {
          "data": {
            "text/html": [
              "<div>\n",
              "<style scoped>\n",
              "    .dataframe tbody tr th:only-of-type {\n",
              "        vertical-align: middle;\n",
              "    }\n",
              "\n",
              "    .dataframe tbody tr th {\n",
              "        vertical-align: top;\n",
              "    }\n",
              "\n",
              "    .dataframe thead th {\n",
              "        text-align: right;\n",
              "    }\n",
              "</style>\n",
              "<table border=\"1\" class=\"dataframe\">\n",
              "  <thead>\n",
              "    <tr style=\"text-align: right;\">\n",
              "      <th></th>\n",
              "      <th>item_id</th>\n",
              "      <th>price</th>\n",
              "      <th>qty_ordered</th>\n",
              "      <th>grand_total</th>\n",
              "      <th>discount_amount</th>\n",
              "      <th>Year</th>\n",
              "      <th>Month</th>\n",
              "      <th>Customer ID</th>\n",
              "      <th>Unnamed: 21</th>\n",
              "      <th>Unnamed: 22</th>\n",
              "      <th>Unnamed: 23</th>\n",
              "      <th>Unnamed: 24</th>\n",
              "      <th>Unnamed: 25</th>\n",
              "    </tr>\n",
              "  </thead>\n",
              "  <tbody>\n",
              "    <tr>\n",
              "      <th>count</th>\n",
              "      <td>584524.000000</td>\n",
              "      <td>5.845240e+05</td>\n",
              "      <td>584524.000000</td>\n",
              "      <td>5.845240e+05</td>\n",
              "      <td>584524.000000</td>\n",
              "      <td>584524.000000</td>\n",
              "      <td>584524.000000</td>\n",
              "      <td>584513.000000</td>\n",
              "      <td>0.0</td>\n",
              "      <td>0.0</td>\n",
              "      <td>0.0</td>\n",
              "      <td>0.0</td>\n",
              "      <td>0.0</td>\n",
              "    </tr>\n",
              "    <tr>\n",
              "      <th>mean</th>\n",
              "      <td>565667.074218</td>\n",
              "      <td>6.348748e+03</td>\n",
              "      <td>1.296388</td>\n",
              "      <td>8.530619e+03</td>\n",
              "      <td>499.492775</td>\n",
              "      <td>2017.044115</td>\n",
              "      <td>7.167654</td>\n",
              "      <td>45790.511965</td>\n",
              "      <td>NaN</td>\n",
              "      <td>NaN</td>\n",
              "      <td>NaN</td>\n",
              "      <td>NaN</td>\n",
              "      <td>NaN</td>\n",
              "    </tr>\n",
              "    <tr>\n",
              "      <th>std</th>\n",
              "      <td>200121.173648</td>\n",
              "      <td>1.494927e+04</td>\n",
              "      <td>3.996061</td>\n",
              "      <td>6.132081e+04</td>\n",
              "      <td>1506.943046</td>\n",
              "      <td>0.707355</td>\n",
              "      <td>3.486305</td>\n",
              "      <td>34414.962389</td>\n",
              "      <td>NaN</td>\n",
              "      <td>NaN</td>\n",
              "      <td>NaN</td>\n",
              "      <td>NaN</td>\n",
              "      <td>NaN</td>\n",
              "    </tr>\n",
              "    <tr>\n",
              "      <th>min</th>\n",
              "      <td>211131.000000</td>\n",
              "      <td>0.000000e+00</td>\n",
              "      <td>1.000000</td>\n",
              "      <td>-1.594000e+03</td>\n",
              "      <td>-599.500000</td>\n",
              "      <td>2016.000000</td>\n",
              "      <td>1.000000</td>\n",
              "      <td>1.000000</td>\n",
              "      <td>NaN</td>\n",
              "      <td>NaN</td>\n",
              "      <td>NaN</td>\n",
              "      <td>NaN</td>\n",
              "      <td>NaN</td>\n",
              "    </tr>\n",
              "    <tr>\n",
              "      <th>25%</th>\n",
              "      <td>395000.750000</td>\n",
              "      <td>3.600000e+02</td>\n",
              "      <td>1.000000</td>\n",
              "      <td>9.450000e+02</td>\n",
              "      <td>0.000000</td>\n",
              "      <td>2017.000000</td>\n",
              "      <td>4.000000</td>\n",
              "      <td>13516.000000</td>\n",
              "      <td>NaN</td>\n",
              "      <td>NaN</td>\n",
              "      <td>NaN</td>\n",
              "      <td>NaN</td>\n",
              "      <td>NaN</td>\n",
              "    </tr>\n",
              "    <tr>\n",
              "      <th>50%</th>\n",
              "      <td>568424.500000</td>\n",
              "      <td>8.990000e+02</td>\n",
              "      <td>1.000000</td>\n",
              "      <td>1.960400e+03</td>\n",
              "      <td>0.000000</td>\n",
              "      <td>2017.000000</td>\n",
              "      <td>7.000000</td>\n",
              "      <td>42856.000000</td>\n",
              "      <td>NaN</td>\n",
              "      <td>NaN</td>\n",
              "      <td>NaN</td>\n",
              "      <td>NaN</td>\n",
              "      <td>NaN</td>\n",
              "    </tr>\n",
              "    <tr>\n",
              "      <th>75%</th>\n",
              "      <td>739106.250000</td>\n",
              "      <td>4.070000e+03</td>\n",
              "      <td>1.000000</td>\n",
              "      <td>6.999000e+03</td>\n",
              "      <td>160.500000</td>\n",
              "      <td>2018.000000</td>\n",
              "      <td>11.000000</td>\n",
              "      <td>73536.000000</td>\n",
              "      <td>NaN</td>\n",
              "      <td>NaN</td>\n",
              "      <td>NaN</td>\n",
              "      <td>NaN</td>\n",
              "      <td>NaN</td>\n",
              "    </tr>\n",
              "    <tr>\n",
              "      <th>max</th>\n",
              "      <td>905208.000000</td>\n",
              "      <td>1.012626e+06</td>\n",
              "      <td>1000.000000</td>\n",
              "      <td>1.788800e+07</td>\n",
              "      <td>90300.000000</td>\n",
              "      <td>2018.000000</td>\n",
              "      <td>12.000000</td>\n",
              "      <td>115326.000000</td>\n",
              "      <td>NaN</td>\n",
              "      <td>NaN</td>\n",
              "      <td>NaN</td>\n",
              "      <td>NaN</td>\n",
              "      <td>NaN</td>\n",
              "    </tr>\n",
              "  </tbody>\n",
              "</table>\n",
              "</div>"
            ],
            "text/plain": [
              "             item_id         price    qty_ordered   grand_total  \\\n",
              "count  584524.000000  5.845240e+05  584524.000000  5.845240e+05   \n",
              "mean   565667.074218  6.348748e+03       1.296388  8.530619e+03   \n",
              "std    200121.173648  1.494927e+04       3.996061  6.132081e+04   \n",
              "min    211131.000000  0.000000e+00       1.000000 -1.594000e+03   \n",
              "25%    395000.750000  3.600000e+02       1.000000  9.450000e+02   \n",
              "50%    568424.500000  8.990000e+02       1.000000  1.960400e+03   \n",
              "75%    739106.250000  4.070000e+03       1.000000  6.999000e+03   \n",
              "max    905208.000000  1.012626e+06    1000.000000  1.788800e+07   \n",
              "\n",
              "       discount_amount           Year          Month    Customer ID  \\\n",
              "count    584524.000000  584524.000000  584524.000000  584513.000000   \n",
              "mean        499.492775    2017.044115       7.167654   45790.511965   \n",
              "std        1506.943046       0.707355       3.486305   34414.962389   \n",
              "min        -599.500000    2016.000000       1.000000       1.000000   \n",
              "25%           0.000000    2017.000000       4.000000   13516.000000   \n",
              "50%           0.000000    2017.000000       7.000000   42856.000000   \n",
              "75%         160.500000    2018.000000      11.000000   73536.000000   \n",
              "max       90300.000000    2018.000000      12.000000  115326.000000   \n",
              "\n",
              "       Unnamed: 21  Unnamed: 22  Unnamed: 23  Unnamed: 24  Unnamed: 25  \n",
              "count          0.0          0.0          0.0          0.0          0.0  \n",
              "mean           NaN          NaN          NaN          NaN          NaN  \n",
              "std            NaN          NaN          NaN          NaN          NaN  \n",
              "min            NaN          NaN          NaN          NaN          NaN  \n",
              "25%            NaN          NaN          NaN          NaN          NaN  \n",
              "50%            NaN          NaN          NaN          NaN          NaN  \n",
              "75%            NaN          NaN          NaN          NaN          NaN  \n",
              "max            NaN          NaN          NaN          NaN          NaN  "
            ]
          },
          "execution_count": 17,
          "metadata": {},
          "output_type": "execute_result"
        }
      ],
      "source": [
        "data.describe()"
      ]
    },
    {
      "cell_type": "code",
      "execution_count": 18,
      "metadata": {
        "colab": {
          "base_uri": "https://localhost:8080/"
        },
        "collapsed": true,
        "id": "aQeKaERA5VfY",
        "outputId": "9930bfa3-4a34-4c7c-b4e5-1b0129fd5ef7"
      },
      "outputs": [
        {
          "name": "stdout",
          "output_type": "stream",
          "text": [
            "<class 'pandas.core.frame.DataFrame'>\n",
            "RangeIndex: 1048575 entries, 0 to 1048574\n",
            "Data columns (total 26 columns):\n",
            " #   Column                 Non-Null Count   Dtype  \n",
            "---  ------                 --------------   -----  \n",
            " 0   item_id                584524 non-null  float64\n",
            " 1   status                 584509 non-null  object \n",
            " 2   created_at             584524 non-null  object \n",
            " 3   sku                    584504 non-null  object \n",
            " 4   price                  584524 non-null  float64\n",
            " 5   qty_ordered            584524 non-null  float64\n",
            " 6   grand_total            584524 non-null  float64\n",
            " 7   increment_id           584524 non-null  object \n",
            " 8   category_name_1        584360 non-null  object \n",
            " 9   sales_commission_code  447346 non-null  object \n",
            " 10  discount_amount        584524 non-null  float64\n",
            " 11  payment_method         584524 non-null  object \n",
            " 12  Working Date           584524 non-null  object \n",
            " 13  BI Status              584524 non-null  object \n",
            " 14   MV                    584524 non-null  object \n",
            " 15  Year                   584524 non-null  float64\n",
            " 16  Month                  584524 non-null  float64\n",
            " 17  Customer Since         584513 non-null  object \n",
            " 18  M-Y                    584524 non-null  object \n",
            " 19  FY                     584524 non-null  object \n",
            " 20  Customer ID            584513 non-null  float64\n",
            " 21  Unnamed: 21            0 non-null       float64\n",
            " 22  Unnamed: 22            0 non-null       float64\n",
            " 23  Unnamed: 23            0 non-null       float64\n",
            " 24  Unnamed: 24            0 non-null       float64\n",
            " 25  Unnamed: 25            0 non-null       float64\n",
            "dtypes: float64(13), object(13)\n",
            "memory usage: 208.0+ MB\n"
          ]
        }
      ],
      "source": [
        "data.info()"
      ]
    },
    {
      "cell_type": "code",
      "execution_count": 19,
      "metadata": {
        "id": "dxvdOaWG6J5r"
      },
      "outputs": [],
      "source": [
        "df = data.copy()"
      ]
    },
    {
      "cell_type": "markdown",
      "metadata": {},
      "source": [
        "Drop NAN Columns"
      ]
    },
    {
      "cell_type": "code",
      "execution_count": 20,
      "metadata": {
        "id": "awS7O7LcLuA-"
      },
      "outputs": [],
      "source": [
        "df = df.drop([\"Unnamed: 21\",\"Unnamed: 22\",\t\"Unnamed: 23\",\t\"Unnamed: 24\",\t\"Unnamed: 25\"],axis=1)"
      ]
    },
    {
      "cell_type": "markdown",
      "metadata": {},
      "source": [
        "Checking Missing Values"
      ]
    },
    {
      "cell_type": "code",
      "execution_count": 21,
      "metadata": {
        "colab": {
          "base_uri": "https://localhost:8080/",
          "height": 742
        },
        "collapsed": true,
        "id": "I3XmQq_K6MuX",
        "outputId": "4c51965f-71ef-4032-fdc6-b780fce84b79"
      },
      "outputs": [
        {
          "data": {
            "text/plain": [
              "item_id                  464051\n",
              "status                   464066\n",
              "created_at               464051\n",
              "sku                      464071\n",
              "price                    464051\n",
              "qty_ordered              464051\n",
              "grand_total              464051\n",
              "increment_id             464051\n",
              "category_name_1          464215\n",
              "sales_commission_code    601229\n",
              "discount_amount          464051\n",
              "payment_method           464051\n",
              "Working Date             464051\n",
              "BI Status                464051\n",
              " MV                      464051\n",
              "Year                     464051\n",
              "Month                    464051\n",
              "Customer Since           464062\n",
              "M-Y                      464051\n",
              "FY                       464051\n",
              "Customer ID              464062\n",
              "dtype: int64"
            ]
          },
          "execution_count": 21,
          "metadata": {},
          "output_type": "execute_result"
        }
      ],
      "source": [
        "df.isnull().sum()"
      ]
    },
    {
      "cell_type": "code",
      "execution_count": 22,
      "metadata": {
        "colab": {
          "base_uri": "https://localhost:8080/",
          "height": 742
        },
        "collapsed": true,
        "id": "zIPlTmhv6jM4",
        "outputId": "bfec19d3-6d29-4b5f-9019-73a1f3bdbc2b"
      },
      "outputs": [
        {
          "data": {
            "text/plain": [
              "item_id                  584524\n",
              "status                   584509\n",
              "created_at               584524\n",
              "sku                      584504\n",
              "price                    584524\n",
              "qty_ordered              584524\n",
              "grand_total              584524\n",
              "increment_id             584524\n",
              "category_name_1          584360\n",
              "sales_commission_code    447346\n",
              "discount_amount          584524\n",
              "payment_method           584524\n",
              "Working Date             584524\n",
              "BI Status                584524\n",
              " MV                      584524\n",
              "Year                     584524\n",
              "Month                    584524\n",
              "Customer Since           584513\n",
              "M-Y                      584524\n",
              "FY                       584524\n",
              "Customer ID              584513\n",
              "dtype: int64"
            ]
          },
          "execution_count": 22,
          "metadata": {},
          "output_type": "execute_result"
        }
      ],
      "source": [
        "df.notnull().sum()"
      ]
    },
    {
      "cell_type": "code",
      "execution_count": 23,
      "metadata": {
        "id": "UGYlFmM76VZP"
      },
      "outputs": [],
      "source": [
        "df = df.dropna(axis=0)"
      ]
    },
    {
      "cell_type": "code",
      "execution_count": 24,
      "metadata": {
        "colab": {
          "base_uri": "https://localhost:8080/",
          "height": 742
        },
        "collapsed": true,
        "id": "TGHOQtB5Poat",
        "outputId": "b2c32c4e-8b8d-4054-93f8-98661579e5d6"
      },
      "outputs": [
        {
          "data": {
            "text/plain": [
              "item_id                  0\n",
              "status                   0\n",
              "created_at               0\n",
              "sku                      0\n",
              "price                    0\n",
              "qty_ordered              0\n",
              "grand_total              0\n",
              "increment_id             0\n",
              "category_name_1          0\n",
              "sales_commission_code    0\n",
              "discount_amount          0\n",
              "payment_method           0\n",
              "Working Date             0\n",
              "BI Status                0\n",
              " MV                      0\n",
              "Year                     0\n",
              "Month                    0\n",
              "Customer Since           0\n",
              "M-Y                      0\n",
              "FY                       0\n",
              "Customer ID              0\n",
              "dtype: int64"
            ]
          },
          "execution_count": 24,
          "metadata": {},
          "output_type": "execute_result"
        }
      ],
      "source": [
        "df.isnull().sum()"
      ]
    },
    {
      "cell_type": "code",
      "execution_count": 25,
      "metadata": {},
      "outputs": [
        {
          "data": {
            "text/plain": [
              "item_id                  447326\n",
              "status                   447326\n",
              "created_at               447326\n",
              "sku                      447326\n",
              "price                    447326\n",
              "qty_ordered              447326\n",
              "grand_total              447326\n",
              "increment_id             447326\n",
              "category_name_1          447326\n",
              "sales_commission_code    447326\n",
              "discount_amount          447326\n",
              "payment_method           447326\n",
              "Working Date             447326\n",
              "BI Status                447326\n",
              " MV                      447326\n",
              "Year                     447326\n",
              "Month                    447326\n",
              "Customer Since           447326\n",
              "M-Y                      447326\n",
              "FY                       447326\n",
              "Customer ID              447326\n",
              "dtype: int64"
            ]
          },
          "execution_count": 25,
          "metadata": {},
          "output_type": "execute_result"
        }
      ],
      "source": [
        "df.notnull().sum()"
      ]
    },
    {
      "cell_type": "code",
      "execution_count": 26,
      "metadata": {
        "colab": {
          "base_uri": "https://localhost:8080/",
          "height": 266
        },
        "id": "bBuI7MYqPtWk",
        "outputId": "e8b22219-bb2f-469e-8547-98678fe668c5"
      },
      "outputs": [
        {
          "data": {
            "text/html": [
              "<div>\n",
              "<style scoped>\n",
              "    .dataframe tbody tr th:only-of-type {\n",
              "        vertical-align: middle;\n",
              "    }\n",
              "\n",
              "    .dataframe tbody tr th {\n",
              "        vertical-align: top;\n",
              "    }\n",
              "\n",
              "    .dataframe thead th {\n",
              "        text-align: right;\n",
              "    }\n",
              "</style>\n",
              "<table border=\"1\" class=\"dataframe\">\n",
              "  <thead>\n",
              "    <tr style=\"text-align: right;\">\n",
              "      <th></th>\n",
              "      <th>item_id</th>\n",
              "      <th>status</th>\n",
              "      <th>created_at</th>\n",
              "      <th>sku</th>\n",
              "      <th>price</th>\n",
              "      <th>qty_ordered</th>\n",
              "      <th>grand_total</th>\n",
              "      <th>increment_id</th>\n",
              "      <th>category_name_1</th>\n",
              "      <th>sales_commission_code</th>\n",
              "      <th>...</th>\n",
              "      <th>payment_method</th>\n",
              "      <th>Working Date</th>\n",
              "      <th>BI Status</th>\n",
              "      <th>MV</th>\n",
              "      <th>Year</th>\n",
              "      <th>Month</th>\n",
              "      <th>Customer Since</th>\n",
              "      <th>M-Y</th>\n",
              "      <th>FY</th>\n",
              "      <th>Customer ID</th>\n",
              "    </tr>\n",
              "  </thead>\n",
              "  <tbody>\n",
              "    <tr>\n",
              "      <th>0</th>\n",
              "      <td>211131.0</td>\n",
              "      <td>complete</td>\n",
              "      <td>7/1/2016</td>\n",
              "      <td>kreations_YI 06-L</td>\n",
              "      <td>1950.0</td>\n",
              "      <td>1.0</td>\n",
              "      <td>1950.0</td>\n",
              "      <td>100147443</td>\n",
              "      <td>Women's Fashion</td>\n",
              "      <td>\\N</td>\n",
              "      <td>...</td>\n",
              "      <td>cod</td>\n",
              "      <td>7/1/2016</td>\n",
              "      <td>#REF!</td>\n",
              "      <td>1,950</td>\n",
              "      <td>2016.0</td>\n",
              "      <td>7.0</td>\n",
              "      <td>2016-7</td>\n",
              "      <td>7-2016</td>\n",
              "      <td>FY17</td>\n",
              "      <td>1.0</td>\n",
              "    </tr>\n",
              "    <tr>\n",
              "      <th>1</th>\n",
              "      <td>211133.0</td>\n",
              "      <td>canceled</td>\n",
              "      <td>7/1/2016</td>\n",
              "      <td>kcc_Buy 2 Frey Air Freshener &amp; Get 1 Kasual Bo...</td>\n",
              "      <td>240.0</td>\n",
              "      <td>1.0</td>\n",
              "      <td>240.0</td>\n",
              "      <td>100147444</td>\n",
              "      <td>Beauty &amp; Grooming</td>\n",
              "      <td>\\N</td>\n",
              "      <td>...</td>\n",
              "      <td>cod</td>\n",
              "      <td>7/1/2016</td>\n",
              "      <td>Gross</td>\n",
              "      <td>240</td>\n",
              "      <td>2016.0</td>\n",
              "      <td>7.0</td>\n",
              "      <td>2016-7</td>\n",
              "      <td>7-2016</td>\n",
              "      <td>FY17</td>\n",
              "      <td>2.0</td>\n",
              "    </tr>\n",
              "  </tbody>\n",
              "</table>\n",
              "<p>2 rows × 21 columns</p>\n",
              "</div>"
            ],
            "text/plain": [
              "    item_id    status created_at  \\\n",
              "0  211131.0  complete   7/1/2016   \n",
              "1  211133.0  canceled   7/1/2016   \n",
              "\n",
              "                                                 sku   price  qty_ordered  \\\n",
              "0                                  kreations_YI 06-L  1950.0          1.0   \n",
              "1  kcc_Buy 2 Frey Air Freshener & Get 1 Kasual Bo...   240.0          1.0   \n",
              "\n",
              "   grand_total increment_id    category_name_1 sales_commission_code  ...  \\\n",
              "0       1950.0    100147443    Women's Fashion                    \\N  ...   \n",
              "1        240.0    100147444  Beauty & Grooming                    \\N  ...   \n",
              "\n",
              "   payment_method Working Date BI Status      MV     Year  Month  \\\n",
              "0             cod     7/1/2016     #REF!   1,950   2016.0    7.0   \n",
              "1             cod     7/1/2016     Gross     240   2016.0    7.0   \n",
              "\n",
              "   Customer Since     M-Y    FY Customer ID  \n",
              "0          2016-7  7-2016  FY17         1.0  \n",
              "1          2016-7  7-2016  FY17         2.0  \n",
              "\n",
              "[2 rows x 21 columns]"
            ]
          },
          "execution_count": 26,
          "metadata": {},
          "output_type": "execute_result"
        }
      ],
      "source": [
        "df.head(2)"
      ]
    },
    {
      "cell_type": "code",
      "execution_count": 27,
      "metadata": {
        "colab": {
          "base_uri": "https://localhost:8080/",
          "height": 489
        },
        "collapsed": true,
        "id": "wIXWFXDJQCQ8",
        "outputId": "3d0591f8-41eb-481c-b41d-bad302d1bfca"
      },
      "outputs": [
        {
          "data": {
            "text/plain": [
              "sales_commission_code\n",
              "\\N              338983\n",
              "40968             2710\n",
              "C-LHW-50074       2434\n",
              "C-RWP-31924       1719\n",
              "cisb30211         1613\n",
              "                 ...  \n",
              "C--PEW-51830         1\n",
              "C-FSD-105093         1\n",
              "Combed-008           1\n",
              "C-GUJ100603          1\n",
              "C-43409-SGD          1\n",
              "Name: count, Length: 7225, dtype: int64"
            ]
          },
          "execution_count": 27,
          "metadata": {},
          "output_type": "execute_result"
        }
      ],
      "source": [
        "df[\"sales_commission_code\"].value_counts()"
      ]
    },
    {
      "cell_type": "code",
      "execution_count": 28,
      "metadata": {
        "colab": {
          "base_uri": "https://localhost:8080/"
        },
        "id": "OcwUrYcYRzYk",
        "outputId": "b27554e9-ad88-4927-8904-c3552fa2e55b"
      },
      "outputs": [
        {
          "name": "stdout",
          "output_type": "stream",
          "text": [
            "7225\n",
            "['\\\\N' 'R-FSD-52352' '105259' ... 'GRS-4090974-1' 'GRS-4090975-1'\n",
            " '100559728']\n",
            "4\n",
            "['#REF!' 'Gross' 'Net' 'Valid']\n"
          ]
        }
      ],
      "source": [
        "print(df[\"sales_commission_code\"].nunique())\n",
        "print(df[\"sales_commission_code\"].unique())\n",
        "\n",
        "print(df[\"BI Status\"].nunique())\n",
        "print(df[\"BI Status\"].unique())"
      ]
    },
    {
      "cell_type": "markdown",
      "metadata": {},
      "source": [
        "Renaming Column"
      ]
    },
    {
      "cell_type": "code",
      "execution_count": 29,
      "metadata": {},
      "outputs": [
        {
          "data": {
            "text/plain": [
              "Index(['item_id', 'status', 'created_at', 'sku', 'price', 'qty_ordered',\n",
              "       'grand_total', 'increment_id', 'Category', 'sales_commission_code',\n",
              "       'discount_amount', 'payment_method', 'Working Date', 'BI Status',\n",
              "       ' MV ', 'Year', 'Month', 'Customer Since', 'M-Y', 'FY', 'Customer ID'],\n",
              "      dtype='object')"
            ]
          },
          "execution_count": 29,
          "metadata": {},
          "output_type": "execute_result"
        }
      ],
      "source": [
        "df.rename(columns={'category_name_1':'Category'},inplace=True)\n",
        "df.columns"
      ]
    },
    {
      "cell_type": "code",
      "execution_count": 30,
      "metadata": {
        "colab": {
          "base_uri": "https://localhost:8080/"
        },
        "id": "G0pWWkmGSu2Y",
        "outputId": "ca0a4c54-95b4-4b5b-ddb4-ca582837597e"
      },
      "outputs": [
        {
          "name": "stdout",
          "output_type": "stream",
          "text": [
            "16\n",
            "[\"Women's Fashion\" 'Beauty & Grooming' 'Soghaat' 'Mobiles & Tablets'\n",
            " 'Appliances' 'Home & Living' \"Men's Fashion\" 'Kids & Baby' '\\\\N' 'Others'\n",
            " 'Entertainment' 'Computing' 'Superstore' 'Health & Sports' 'Books'\n",
            " 'School & Education']\n"
          ]
        }
      ],
      "source": [
        "print(df[\"Category\"].nunique())\n",
        "print(df[\"Category\"].unique())"
      ]
    },
    {
      "cell_type": "markdown",
      "metadata": {},
      "source": [
        "Checking Completed Orders"
      ]
    },
    {
      "cell_type": "code",
      "execution_count": 31,
      "metadata": {
        "id": "3Lfjr4RxUUoU"
      },
      "outputs": [
        {
          "data": {
            "text/html": [
              "<div>\n",
              "<style scoped>\n",
              "    .dataframe tbody tr th:only-of-type {\n",
              "        vertical-align: middle;\n",
              "    }\n",
              "\n",
              "    .dataframe tbody tr th {\n",
              "        vertical-align: top;\n",
              "    }\n",
              "\n",
              "    .dataframe thead th {\n",
              "        text-align: right;\n",
              "    }\n",
              "</style>\n",
              "<table border=\"1\" class=\"dataframe\">\n",
              "  <thead>\n",
              "    <tr style=\"text-align: right;\">\n",
              "      <th></th>\n",
              "      <th>item_id</th>\n",
              "      <th>status</th>\n",
              "      <th>created_at</th>\n",
              "      <th>sku</th>\n",
              "      <th>price</th>\n",
              "      <th>qty_ordered</th>\n",
              "      <th>grand_total</th>\n",
              "      <th>increment_id</th>\n",
              "      <th>Category</th>\n",
              "      <th>sales_commission_code</th>\n",
              "      <th>...</th>\n",
              "      <th>payment_method</th>\n",
              "      <th>Working Date</th>\n",
              "      <th>BI Status</th>\n",
              "      <th>MV</th>\n",
              "      <th>Year</th>\n",
              "      <th>Month</th>\n",
              "      <th>Customer Since</th>\n",
              "      <th>M-Y</th>\n",
              "      <th>FY</th>\n",
              "      <th>Customer ID</th>\n",
              "    </tr>\n",
              "  </thead>\n",
              "  <tbody>\n",
              "    <tr>\n",
              "      <th>0</th>\n",
              "      <td>211131.0</td>\n",
              "      <td>complete</td>\n",
              "      <td>7/1/2016</td>\n",
              "      <td>kreations_YI 06-L</td>\n",
              "      <td>1950.0</td>\n",
              "      <td>1.0</td>\n",
              "      <td>1950.0</td>\n",
              "      <td>100147443</td>\n",
              "      <td>Women's Fashion</td>\n",
              "      <td>\\N</td>\n",
              "      <td>...</td>\n",
              "      <td>cod</td>\n",
              "      <td>7/1/2016</td>\n",
              "      <td>#REF!</td>\n",
              "      <td>1,950</td>\n",
              "      <td>2016.0</td>\n",
              "      <td>7.0</td>\n",
              "      <td>2016-7</td>\n",
              "      <td>7-2016</td>\n",
              "      <td>FY17</td>\n",
              "      <td>1.0</td>\n",
              "    </tr>\n",
              "    <tr>\n",
              "      <th>3</th>\n",
              "      <td>211135.0</td>\n",
              "      <td>complete</td>\n",
              "      <td>7/1/2016</td>\n",
              "      <td>kcc_krone deal</td>\n",
              "      <td>360.0</td>\n",
              "      <td>1.0</td>\n",
              "      <td>60.0</td>\n",
              "      <td>100147446</td>\n",
              "      <td>Beauty &amp; Grooming</td>\n",
              "      <td>R-FSD-52352</td>\n",
              "      <td>...</td>\n",
              "      <td>cod</td>\n",
              "      <td>7/1/2016</td>\n",
              "      <td>Net</td>\n",
              "      <td>360</td>\n",
              "      <td>2016.0</td>\n",
              "      <td>7.0</td>\n",
              "      <td>2016-7</td>\n",
              "      <td>7-2016</td>\n",
              "      <td>FY17</td>\n",
              "      <td>4.0</td>\n",
              "    </tr>\n",
              "  </tbody>\n",
              "</table>\n",
              "<p>2 rows × 21 columns</p>\n",
              "</div>"
            ],
            "text/plain": [
              "    item_id    status created_at                sku   price  qty_ordered  \\\n",
              "0  211131.0  complete   7/1/2016  kreations_YI 06-L  1950.0          1.0   \n",
              "3  211135.0  complete   7/1/2016     kcc_krone deal   360.0          1.0   \n",
              "\n",
              "   grand_total increment_id           Category sales_commission_code  ...  \\\n",
              "0       1950.0    100147443    Women's Fashion                    \\N  ...   \n",
              "3         60.0    100147446  Beauty & Grooming           R-FSD-52352  ...   \n",
              "\n",
              "   payment_method Working Date BI Status      MV     Year  Month  \\\n",
              "0             cod     7/1/2016     #REF!   1,950   2016.0    7.0   \n",
              "3             cod     7/1/2016       Net     360   2016.0    7.0   \n",
              "\n",
              "   Customer Since     M-Y    FY Customer ID  \n",
              "0          2016-7  7-2016  FY17         1.0  \n",
              "3          2016-7  7-2016  FY17         4.0  \n",
              "\n",
              "[2 rows x 21 columns]"
            ]
          },
          "execution_count": 31,
          "metadata": {},
          "output_type": "execute_result"
        }
      ],
      "source": [
        "completed_orders = df[df[\"status\"] == \"complete\"]\n",
        "completed_orders.head(2)"
      ]
    },
    {
      "cell_type": "code",
      "execution_count": 32,
      "metadata": {
        "id": "OhbzZotOWlnm"
      },
      "outputs": [
        {
          "data": {
            "text/plain": [
              "Category\n",
              "Mobiles & Tablets    37118\n",
              "Men's Fashion        35227\n",
              "Women's Fashion      20289\n",
              "Soghaat              19138\n",
              "Beauty & Grooming    18766\n",
              "Name: count, dtype: int64"
            ]
          },
          "execution_count": 32,
          "metadata": {},
          "output_type": "execute_result"
        }
      ],
      "source": [
        "category_complete = completed_orders[\"Category\"].value_counts()\n",
        "category_complete.columns = ['category_name','completed_count']\n",
        "category_complete .head(5)\n"
      ]
    },
    {
      "cell_type": "code",
      "execution_count": 33,
      "metadata": {
        "id": "K-8WQPf5Wtz2"
      },
      "outputs": [
        {
          "name": "stdout",
          "output_type": "stream",
          "text": [
            "The best selling Category is :Category\n",
            "Mobiles & Tablets    37118\n",
            "Name: count, dtype: int64:\n"
          ]
        }
      ],
      "source": [
        "top_category = category_complete.head(1)\n",
        "print(f\"The best selling Category is :{top_category}:\")"
      ]
    },
    {
      "cell_type": "markdown",
      "metadata": {},
      "source": [
        "The best selling Category is Mobiles & Tablets with completed orders of 37118."
      ]
    },
    {
      "cell_type": "code",
      "execution_count": 34,
      "metadata": {},
      "outputs": [],
      "source": [
        "df.to_csv(\"cleaned_dataset.csv\", index=False)\n",
        "df.to_pickle(\"cleaned_dataset.pkl\")\n"
      ]
    },
    {
      "cell_type": "code",
      "execution_count": null,
      "metadata": {},
      "outputs": [],
      "source": []
    }
  ],
  "metadata": {
    "colab": {
      "provenance": []
    },
    "kernelspec": {
      "display_name": "Python 3",
      "name": "python3"
    },
    "language_info": {
      "codemirror_mode": {
        "name": "ipython",
        "version": 3
      },
      "file_extension": ".py",
      "mimetype": "text/x-python",
      "name": "python",
      "nbconvert_exporter": "python",
      "pygments_lexer": "ipython3",
      "version": "3.11.0"
    }
  },
  "nbformat": 4,
  "nbformat_minor": 0
}
